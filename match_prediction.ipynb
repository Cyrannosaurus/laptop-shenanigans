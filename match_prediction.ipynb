{
 "metadata": {
  "language_info": {
   "codemirror_mode": {
    "name": "ipython",
    "version": 3
   },
   "file_extension": ".py",
   "mimetype": "text/x-python",
   "name": "python",
   "nbconvert_exporter": "python",
   "pygments_lexer": "ipython3",
   "version": "3.9.0-final"
  },
  "orig_nbformat": 2,
  "kernelspec": {
   "name": "python3",
   "display_name": "Python 3",
   "language": "python"
  }
 },
 "nbformat": 4,
 "nbformat_minor": 2,
 "cells": [
  {
   "source": [
    "### Available information is as follows:\n",
    "\n",
    "- Champion picks\n",
    "- Champion bans\n",
    "- Summoner mastery on every champion\n",
    "- Summoner spells\n",
    "- Runes\n"
   ],
   "cell_type": "markdown",
   "metadata": {}
  },
  {
   "cell_type": "code",
   "execution_count": 12,
   "metadata": {},
   "outputs": [],
   "source": [
    "### Required\n",
    "api_key = \"RGAPI-2ec33a8f-a8a5-43f9-8979-99761979b6d9\"\n",
    "def get_spectator_req_str(server_id:str, summoner_id:str) -> str:\n",
    "    return f\"https://{server_id}.api.riotgames.com/lol/spectator/v4/active-games/by-summoner/{summoner_id}\"  # uses encrypted sumoner id\n",
    "def get_match_req_str(server_id:str, match_id:str) -> str:\n",
    "    return f\"https://{server_id}.api.riotgames.com/lol/match/v4/matches/{match_id}\"                # can be mapped to spectator data with 'gameId'\n",
    "def get_mastery_req_str(server_id:str, summoner_id:str, champ_id:str) -> str:\n",
    "    return f\"https://{server_id}.api.riotgames.com/lol/champion-mastery/v4/champion-masteries/by-summoner/{summoner_id}/by-champion/{champ_id}\""
   ]
  },
  {
   "cell_type": "code",
   "execution_count": 5,
   "metadata": {},
   "outputs": [],
   "source": [
    "import requests"
   ]
  },
  {
   "cell_type": "code",
   "execution_count": null,
   "metadata": {},
   "outputs": [],
   "source": []
  },
  {
   "cell_type": "code",
   "execution_count": 13,
   "metadata": {},
   "outputs": [
    {
     "output_type": "execute_result",
     "data": {
      "text/plain": [
       "'https://kr.api.riotgames.com/lol/spectator/v4/active-games/by-summoner/cloakist'"
      ]
     },
     "metadata": {},
     "execution_count": 13
    }
   ],
   "source": [
    "get_spectator_req_str('kr', 'cloakist')"
   ]
  },
  {
   "cell_type": "code",
   "execution_count": null,
   "metadata": {},
   "outputs": [],
   "source": []
  },
  {
   "cell_type": "code",
   "execution_count": null,
   "metadata": {},
   "outputs": [],
   "source": []
  }
 ]
}